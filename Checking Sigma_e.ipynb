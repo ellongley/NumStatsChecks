{
 "cells": [
  {
   "cell_type": "markdown",
   "metadata": {},
   "source": [
    "# Checking Sigma_e for KiDS-1000"
   ]
  },
  {
   "cell_type": "code",
   "execution_count": 22,
   "metadata": {},
   "outputs": [],
   "source": [
    "import h5py as h\n",
    "import numpy as np\n",
    "import math"
   ]
  },
  {
   "cell_type": "code",
   "execution_count": 23,
   "metadata": {},
   "outputs": [],
   "source": [
    "s = h.File('/global/cscratch1/sd/elp25/txpipe-reanalysis/kids-1000/data/shear_catalog_kids1000.h5','r+')"
   ]
  },
  {
   "cell_type": "code",
   "execution_count": 24,
   "metadata": {},
   "outputs": [],
   "source": [
    "z = s['shear/mean_z'][()]\n",
    "weights = s['shear/weight'][()]\n",
    "g1 = s['shear/g1'][()]\n",
    "g2 = s['shear/g2'][()]"
   ]
  },
  {
   "cell_type": "code",
   "execution_count": 25,
   "metadata": {},
   "outputs": [],
   "source": [
    "bincut1 = (s['shear/mean_z'][()]>0.1) & (s['shear/mean_z'][()]<=0.3)\n",
    "bincut2 = (s['shear/mean_z'][()]>0.3) & (s['shear/mean_z'][()]<=0.5)\n",
    "bincut3 = (s['shear/mean_z'][()]>0.5) & (s['shear/mean_z'][()]<=0.7)\n",
    "bincut4 = (s['shear/mean_z'][()]>0.7) & (s['shear/mean_z'][()]<=0.9)\n",
    "bincut5 = (s['shear/mean_z'][()]>0.9) & (s['shear/mean_z'][()]<=1.2)"
   ]
  },
  {
   "cell_type": "code",
   "execution_count": 26,
   "metadata": {},
   "outputs": [],
   "source": [
    "bincuts = [bincut1,bincut2,bincut3,bincut4,bincut5]"
   ]
  },
  {
   "cell_type": "code",
   "execution_count": 27,
   "metadata": {},
   "outputs": [],
   "source": [
    "ms = [-0.009,-0.011,-0.015,0.002,0.007]"
   ]
  },
  {
   "cell_type": "markdown",
   "metadata": {},
   "source": [
    "Note they quote the averager per component (so extra root(2)): \n",
    "    https://arxiv.org/pdf/2007.01845.pdf"
   ]
  },
  {
   "cell_type": "code",
   "execution_count": 28,
   "metadata": {},
   "outputs": [],
   "source": [
    "#https://github.com/KiDS-WL/Cat_to_Obs_K1000_P1/blob/master/data/kids/ellipticity_dispersion/sigma_e_blindC.ascii\n",
    "vals = [0.2696215956290229, 0.25788498381059144, 0.2725868234515691, 0.25393725942022516,0.2702738432562588]\n"
   ]
  },
  {
   "cell_type": "code",
   "execution_count": 29,
   "metadata": {},
   "outputs": [],
   "source": [
    "binnum = 4\n",
    "bincut = bincuts[binnum]\n",
    "\n",
    "Kinv = 1#/((1+ms[binnum])*(1+ms[binnum]))\n",
    "\n",
    "\n",
    "sumw2 = np.sum(weights[bincut]**2)\n",
    "\n",
    "\n",
    "e1_sub = g1[bincut]-np.average(g1[bincut],weights=weights[bincut])\n",
    "e2_sub = g2[bincut]-np.average(g2[bincut],weights=weights[bincut])\n",
    "\n",
    "eterm = e1_sub**2+e2_sub**2\n",
    "sigma_e = (Kinv)*np.sum(eterm*weights[bincut]**2)/sumw2"
   ]
  },
  {
   "cell_type": "code",
   "execution_count": 30,
   "metadata": {},
   "outputs": [
    {
     "data": {
      "text/plain": [
       "0.27027576819743276"
      ]
     },
     "execution_count": 30,
     "metadata": {},
     "output_type": "execute_result"
    }
   ],
   "source": [
    "np.sqrt(sigma_e/2)"
   ]
  },
  {
   "cell_type": "code",
   "execution_count": 31,
   "metadata": {},
   "outputs": [],
   "source": [
    "binnum = 4\n",
    "bincut = bincuts[binnum]\n",
    "\n",
    "Kinv = 1/((1+ms[binnum])*(1+ms[binnum]))\n",
    "\n",
    "\n",
    "sumw2 = np.sum(weights[bincut]**2)\n",
    "\n",
    "\n",
    "e1_sub = g1[bincut]-np.average(g1[bincut],weights=weights[bincut])\n",
    "e2_sub = g2[bincut]-np.average(g2[bincut],weights=weights[bincut])\n",
    "\n",
    "eterm = e1_sub**2+e2_sub**2\n",
    "sigma_e = (Kinv)*np.sum(eterm*weights[bincut]**2)/sumw2"
   ]
  },
  {
   "cell_type": "code",
   "execution_count": 32,
   "metadata": {},
   "outputs": [
    {
     "data": {
      "text/plain": [
       "0.26839698927252514"
      ]
     },
     "execution_count": 32,
     "metadata": {},
     "output_type": "execute_result"
    }
   ],
   "source": [
    "np.sqrt(sigma_e/2)"
   ]
  },
  {
   "cell_type": "code",
   "execution_count": null,
   "metadata": {},
   "outputs": [],
   "source": []
  }
 ],
 "metadata": {
  "kernelspec": {
   "display_name": "desc-python",
   "language": "python",
   "name": "desc-python"
  },
  "language_info": {
   "codemirror_mode": {
    "name": "ipython",
    "version": 3
   },
   "file_extension": ".py",
   "mimetype": "text/x-python",
   "name": "python",
   "nbconvert_exporter": "python",
   "pygments_lexer": "ipython3",
   "version": "3.8.8"
  }
 },
 "nbformat": 4,
 "nbformat_minor": 4
}
